{
 "cells": [
  {
   "cell_type": "code",
   "execution_count": 3,
   "metadata": {},
   "outputs": [
    {
     "name": "stdout",
     "output_type": "stream",
     "text": [
      "g(z)的结果为： [[0.88079708 0.99752738 0.99999386]\n",
      " [0.99330715 0.99999386 1.        ]\n",
      " [0.99966465 0.99999998 1.        ]]\n"
     ]
    }
   ],
   "source": [
    "import numpy as np\n",
    "import math\n",
    "\n",
    "x=np.array([1,2,3]);\n",
    "b=np.array([1,2,3]);\n",
    "w=np.array([[1,2,3],[4,5,6],[7,8,9]]);\n",
    "z=w*x+b;\n",
    "g=1/(1+math.e**(-z));\n",
    "print(\"g(z)的结果为：\",g);"
   ]
  },
  {
   "cell_type": "code",
   "execution_count": 37,
   "metadata": {},
   "outputs": [
    {
     "name": "stdout",
     "output_type": "stream",
     "text": [
      "重度污染：0.217\n",
      "中度污染：0.278\n",
      "轻度污染：0.229\n",
      "良好：0.276\n",
      "\n",
      "\n",
      "东四PM平均值：89.154\n",
      "东四环PM平均值：92.561\n",
      "农展馆PM 平均值：88.644\n",
      "70491 25052 20508 24931\n"
     ]
    }
   ],
   "source": [
    "import pandas as pd\n",
    "\n",
    "df=pd.read_csv('BeijingPM20100101_20151231.csv',encoding='gbk',usecols=['PM_Dongsi','PM_Dongsihuan','PM_Nongzhanguan'])\n",
    "\n",
    "wr150=df[(df['PM_Dongsi']>150)|(df['PM_Dongsihuan']>150)|(df['PM_Nongzhanguan']>150)].count().sum()\n",
    "wr75=df[(df['PM_Dongsi']>75)|(df['PM_Dongsihuan']>75)|(df['PM_Nongzhanguan']>75)].count().sum()\n",
    "wr35=df[(df['PM_Dongsi']>35)|(df['PM_Dongsihuan']>35)|(df['PM_Nongzhanguan']>35)].count().sum()\n",
    "wr0=df[(df['PM_Dongsi']>0)|(df['PM_Dongsihuan']>0)|(df['PM_Nongzhanguan']>0)].count().sum()\n",
    "\n",
    "print(\"重度污染：{:.3f}\".format(wr150/wr0))\n",
    "print(\"中度污染：{:.3f}\".format((wr75-wr150)/wr0))\n",
    "print(\"轻度污染：{:.3f}\".format((wr35-wr75)/wr0))\n",
    "print(\"良好：{:.3f}\".format((wr0-wr35)/wr0))\n",
    "\n",
    "print(\"\\n\")\n",
    "print(\"东四PM平均值：{:.3f}\".format(df['PM_Dongsi'].sum()/df['PM_Dongsi'].count()))\n",
    "print(\"东四环PM平均值：{:.3f}\".format(df['PM_Dongsihuan'].sum()/df['PM_Dongsihuan'].count()))\n",
    "print(\"农展馆PM 平均值：{:.3f}\".format(df['PM_Nongzhanguan'].sum()/df['PM_Nongzhanguan'].count()))\n",
    "\n"
   ]
  }
 ],
 "metadata": {
  "kernelspec": {
   "display_name": "Python 3",
   "language": "python",
   "name": "python3"
  },
  "language_info": {
   "codemirror_mode": {
    "name": "ipython",
    "version": 3
   },
   "file_extension": ".py",
   "mimetype": "text/x-python",
   "name": "python",
   "nbconvert_exporter": "python",
   "pygments_lexer": "ipython3",
   "version": "3.7.0"
  }
 },
 "nbformat": 4,
 "nbformat_minor": 2
}
